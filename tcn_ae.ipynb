{
 "cells": [
  {
   "cell_type": "code",
   "execution_count": 1,
   "metadata": {},
   "outputs": [],
   "source": [
    "import numpy as np\n",
    "import pandas as pd\n",
    "from sklearn.utils import shuffle\n",
    "from sklearn.model_selection import train_test_split\n",
    "import torch\n",
    "\n",
    "import torch.nn as nn\n",
    "import torch.nn.functional as F\n",
    "from torch.autograd import Variable\n",
    "import torch.optim as optim\n",
    "from tcn import TemporalConvNet\n",
    "import time\n",
    "import os\n"
   ]
  },
  {
   "cell_type": "code",
   "execution_count": 2,
   "metadata": {},
   "outputs": [],
   "source": [
    "from tcnae import encoder,decoder"
   ]
  },
  {
   "cell_type": "code",
   "execution_count": 3,
   "metadata": {},
   "outputs": [],
   "source": [
    "import data"
   ]
  },
  {
   "cell_type": "code",
   "execution_count": 4,
   "metadata": {},
   "outputs": [],
   "source": [
    "data_dir = os.environ['MYDATA_DIR']"
   ]
  },
  {
   "cell_type": "code",
   "execution_count": 5,
   "metadata": {},
   "outputs": [],
   "source": [
    "data_c = data.Data(wd=data_dir)"
   ]
  },
  {
   "cell_type": "code",
   "execution_count": 6,
   "metadata": {},
   "outputs": [],
   "source": [
    "raw_x, raw_y = data_c.data(class_num=19, data_num=400)"
   ]
  },
  {
   "cell_type": "code",
   "execution_count": 7,
   "metadata": {},
   "outputs": [
    {
     "data": {
      "text/plain": [
       "(7600,)"
      ]
     },
     "execution_count": 7,
     "metadata": {},
     "output_type": "execute_result"
    }
   ],
   "source": [
    "raw_y.shape"
   ]
  },
  {
   "cell_type": "code",
   "execution_count": 8,
   "metadata": {},
   "outputs": [
    {
     "data": {
      "text/plain": [
       "(7600, 125, 3)"
      ]
     },
     "execution_count": 8,
     "metadata": {},
     "output_type": "execute_result"
    }
   ],
   "source": [
    "raw_x.shape"
   ]
  },
  {
   "cell_type": "code",
   "execution_count": 9,
   "metadata": {},
   "outputs": [],
   "source": [
    "batch_size = 50\n",
    "seq_len = 125\n",
    "epochs = 50\n",
    "iters = 100\n",
    "T = 130\n",
    "n_steps = T + (2 * seq_len)\n",
    "n_classes = 10  # Digits 0 - 9\n",
    "n_train = 10000\n",
    "n_test = 1000"
   ]
  },
  {
   "cell_type": "code",
   "execution_count": 10,
   "metadata": {},
   "outputs": [
    {
     "data": {
      "text/plain": [
       "(760, 125, 3)"
      ]
     },
     "execution_count": 10,
     "metadata": {},
     "output_type": "execute_result"
    }
   ],
   "source": [
    "X_train, X_test, y_train, y_test = train_test_split(raw_x, raw_y, test_size=0.90, random_state=0)\n",
    "X_train.shape"
   ]
  },
  {
   "cell_type": "code",
   "execution_count": 11,
   "metadata": {},
   "outputs": [],
   "source": [
    "X_train_new = X_train\n",
    "y_train_new = y_train\n",
    "for _ in range(3):\n",
    "    for i,j in zip(X_train,y_train):\n",
    "        X_train_new = np.append(X_train_new,i+np.random.normal(0, 1, (125, 3)).reshape(1,125,3))\n",
    "        y_train_new = np.append(y_train_new, j)\n",
    "X_train = X_train_new.reshape(-1,125,3)\n",
    "y_train = y_train_new"
   ]
  },
  {
   "cell_type": "code",
   "execution_count": 12,
   "metadata": {},
   "outputs": [],
   "source": [
    "num_chans = [6] * (3) \n",
    "encoder = encoder(num_inputs=raw_x.shape[1],num_outputs=19, num_channels=num_chans, kernel_size=4, dropout=0.0).cuda()"
   ]
  },
  {
   "cell_type": "code",
   "execution_count": 13,
   "metadata": {},
   "outputs": [],
   "source": [
    "decoder = decoder(num_inputs=19,num_outputs=3, num_channels=num_chans, kernel_size=4, dropout=0.0).cuda()"
   ]
  },
  {
   "cell_type": "code",
   "execution_count": 14,
   "metadata": {},
   "outputs": [],
   "source": [
    "criterion = nn.MSELoss().cuda()\n",
    "lr = 0.001\n",
    "optimizer1 =optim.Adam(encoder.parameters(),lr=lr)\n",
    "optimizer2 =optim.Adam(decoder.parameters(),lr=lr)"
   ]
  },
  {
   "cell_type": "code",
   "execution_count": 15,
   "metadata": {},
   "outputs": [],
   "source": [
    "encoder.train()\n",
    "decoder.train()\n",
    "total_loss = 0\n",
    "start_time = time.time()\n",
    "correct = 0\n",
    "counter = 0"
   ]
  },
  {
   "cell_type": "code",
   "execution_count": 16,
   "metadata": {},
   "outputs": [
    {
     "data": {
      "text/plain": [
       "Adam (\n",
       "Parameter Group 0\n",
       "    amsgrad: False\n",
       "    betas: (0.9, 0.999)\n",
       "    eps: 1e-08\n",
       "    lr: 0.001\n",
       "    weight_decay: 0\n",
       ")"
      ]
     },
     "execution_count": 16,
     "metadata": {},
     "output_type": "execute_result"
    }
   ],
   "source": [
    "optimizer1"
   ]
  },
  {
   "cell_type": "code",
   "execution_count": 34,
   "metadata": {},
   "outputs": [
    {
     "name": "stdout",
     "output_type": "stream",
     "text": [
      "0 tensor(4.4951, device='cuda:0', grad_fn=<MseLossBackward>)\n"
     ]
    },
    {
     "name": "stderr",
     "output_type": "stream",
     "text": [
      "/mnt/nfs/mizuno/.pyenv/versions/anaconda3-5.2.0/lib/python3.6/site-packages/torch/nn/modules/upsampling.py:122: UserWarning: nn.Upsampling is deprecated. Use nn.functional.interpolate instead.\n",
      "  warnings.warn(\"nn.Upsampling is deprecated. Use nn.functional.interpolate instead.\")\n"
     ]
    }
   ],
   "source": [
    "input = torch.tensor(X_train,dtype=torch.float32).cuda()\n",
    "for i in range(1):\n",
    "    optimizer1.zero_grad()\n",
    "    optimizer2.zero_grad()\n",
    "    z = encoder(input)\n",
    "    out = decoder(z)\n",
    "    loss = criterion(out, input)\n",
    "    if i%50==0:\n",
    "#         input = torch.tensor([X_train[1]],dtype=torch.float32)\n",
    "#         out= model(input)\n",
    "#         print(out)\n",
    "#         print(torch.max(out, 1))\n",
    "        print(i,loss)\n",
    "    loss.backward()\n",
    "    optimizer1.step()\n",
    "    optimizer2.step()"
   ]
  },
  {
   "cell_type": "code",
   "execution_count": null,
   "metadata": {},
   "outputs": [],
   "source": []
  },
  {
   "cell_type": "code",
   "execution_count": 35,
   "metadata": {},
   "outputs": [],
   "source": [
    "input = torch.tensor([X_train[10]],dtype=torch.float32).cuda()\n"
   ]
  },
  {
   "cell_type": "code",
   "execution_count": 36,
   "metadata": {},
   "outputs": [
    {
     "data": {
      "text/plain": [
       "tensor([[[-1.8294,  1.1112, -0.9947,  0.7173,  1.1819,  0.5137,  0.5710,\n",
       "          -1.6919,  0.6121, -0.1167, -0.9403,  1.4942,  2.0087,  0.9213,\n",
       "          -1.6277,  0.2236, -0.8367, -0.6466, -1.2254],\n",
       "         [-1.4565, -0.0002, -1.9600,  0.5660, -1.2956,  0.3850, -1.3586,\n",
       "          -0.3687, -1.4045,  2.8192,  0.0360,  0.6725,  2.2526,  0.2706,\n",
       "           0.9487, -0.0834, -0.4490, -3.4515, -1.5058],\n",
       "         [-0.7110,  1.5395,  2.0737, -1.6701,  2.9501,  2.3050,  0.7409,\n",
       "          -2.1365,  0.2616,  5.8701,  0.0673,  2.0059,  2.9395, -1.9414,\n",
       "           1.3012, -2.1805,  2.7000,  1.2605, -3.1883],\n",
       "         [ 0.2005, -1.4058, -0.5086,  0.1271, -2.0967, -2.3348,  2.1216,\n",
       "          -0.0943, -1.0376,  3.4061, -0.2950, -1.0806,  0.6493, -1.2225,\n",
       "          -0.8572,  1.2820, -0.8509, -4.1005,  1.4753],\n",
       "         [ 0.8127, -2.0373, -4.7150,  7.9344, -1.8534,  1.3460,  1.8379,\n",
       "          -2.8648,  2.4520, -1.2657,  2.0379, -2.7865,  0.3182, -2.1675,\n",
       "           1.2777,  3.9285, -5.5287,  2.6578,  2.9088],\n",
       "         [ 5.0690, -0.9361, -3.5706, -0.1778, -1.6911,  2.4000,  2.8135,\n",
       "          -2.1598, -0.7372,  3.7445,  0.6137, -0.9213,  1.7310,  1.2296,\n",
       "           2.5810, -1.2289, -0.2833,  0.8124, -3.5244],\n",
       "         [ 0.1635, -3.2760, -1.3399, -1.3139,  0.3256,  2.7668, -0.1197,\n",
       "           1.6379,  1.5174,  5.1801,  3.7409, -1.0411,  0.0680, -2.9956,\n",
       "           1.4447,  1.4837, -1.5739, -0.9406,  1.9789],\n",
       "         [-0.7801, -0.4667, -1.9161, -5.4161, -0.0188, -0.4996, -0.0968,\n",
       "           2.8321,  0.1364,  3.1959,  0.7525, -2.0290, -0.3271, -0.1989,\n",
       "          -1.9958, -1.4303, -1.9744,  1.2168, -4.2907],\n",
       "         [ 2.1456, -2.9435, -4.3034,  2.3630, -1.0148, -0.1261,  0.3231,\n",
       "           1.6722,  2.5975,  0.9384, -1.4773,  0.8244, -0.5096,  0.5054,\n",
       "           0.7385,  1.3394, -3.5873,  2.0516,  2.8923],\n",
       "         [-0.4079,  1.1801, -3.3741, -4.4259, -0.1285, -0.1911, -0.0438,\n",
       "           3.7710, -0.6895, -0.1872,  1.0120, -0.8958,  0.9793,  3.2591,\n",
       "          -1.6796, -2.1006, -2.7946,  1.3981, -4.1010]]],\n",
       "       device='cuda:0', grad_fn=<ThAddBackward>)"
      ]
     },
     "execution_count": 36,
     "metadata": {},
     "output_type": "execute_result"
    }
   ],
   "source": [
    "z = encoder(input)\n",
    "z"
   ]
  },
  {
   "cell_type": "code",
   "execution_count": 33,
   "metadata": {},
   "outputs": [
    {
     "data": {
      "text/plain": [
       "tensor([[[-1.8761,  1.1610, -0.9509,  0.7540,  1.2114,  0.4914,  0.5937,\n",
       "          -1.7213,  0.6376, -0.1382, -0.9423,  1.4700,  2.0349,  0.9585,\n",
       "          -1.6994,  0.2769, -0.8362, -0.5859, -1.2205],\n",
       "         [-1.4677,  0.0333, -1.9388,  0.5728, -1.2533,  0.4133, -1.3878,\n",
       "          -0.4302, -1.4341,  2.7875,  0.0458,  0.6602,  2.2504,  0.2575,\n",
       "           0.9218, -0.0119, -0.4029, -3.4952, -1.5049],\n",
       "         [-0.6476,  1.5663,  2.0928, -1.6783,  2.9295,  2.3833,  0.6946,\n",
       "          -2.1924,  0.2160,  5.8589,  0.0694,  2.0158,  2.9439, -1.9226,\n",
       "           1.3034, -2.2152,  2.6977,  1.1871, -3.0955],\n",
       "         [ 0.1228, -1.3930, -0.5531,  0.0427, -2.1845, -2.3864,  2.1392,\n",
       "          -0.1016, -1.0690,  3.4628, -0.2816, -1.1104,  0.6565, -1.2180,\n",
       "          -0.8783,  1.2725, -0.8750, -4.0879,  1.5148],\n",
       "         [ 0.7378, -2.0334, -4.7232,  7.9609, -1.8598,  1.4046,  1.8626,\n",
       "          -2.8586,  2.4929, -1.3778,  2.0451, -2.8462,  0.2540, -2.1311,\n",
       "           1.1861,  3.9507, -5.6387,  2.7299,  2.9728],\n",
       "         [ 5.0716, -0.9129, -3.5863, -0.2585, -1.6123,  2.5199,  2.9197,\n",
       "          -2.2687, -0.7266,  3.6322,  0.5929, -0.8998,  1.6549,  1.2218,\n",
       "           2.5383, -1.2429, -0.2461,  0.8400, -3.5726],\n",
       "         [ 0.1163, -3.2679, -1.2776, -1.3215,  0.3135,  2.8530, -0.1869,\n",
       "           1.6289,  1.4929,  5.1287,  3.7348, -1.0373,  0.0848, -2.9740,\n",
       "           1.3878,  1.4657, -1.5975, -1.0595,  2.0143],\n",
       "         [-0.8263, -0.3913, -1.8980, -5.4512, -0.0691, -0.4777, -0.1113,\n",
       "           2.8394,  0.1090,  3.1964,  0.7568, -2.0524, -0.3330, -0.2148,\n",
       "          -2.0485, -1.4549, -2.0224,  1.1583, -4.2805],\n",
       "         [ 2.1310, -2.9117, -4.3443,  2.3249, -1.0181, -0.1454,  0.3685,\n",
       "           1.6844,  2.5881,  0.9041, -1.5139,  0.8414, -0.5008,  0.5563,\n",
       "           0.7097,  1.3315, -3.5832,  2.0804,  2.8434],\n",
       "         [-0.4382,  1.2411, -3.3806, -4.4186, -0.1314, -0.2005,  0.0086,\n",
       "           3.7173, -0.7037, -0.2623,  0.9114, -0.8613,  0.9379,  3.2368,\n",
       "          -1.7231, -2.1224, -2.8027,  1.3998, -4.1074]]],\n",
       "       device='cuda:0', grad_fn=<ThAddBackward>)"
      ]
     },
     "execution_count": 33,
     "metadata": {},
     "output_type": "execute_result"
    }
   ],
   "source": [
    "z"
   ]
  },
  {
   "cell_type": "code",
   "execution_count": null,
   "metadata": {},
   "outputs": [],
   "source": []
  },
  {
   "cell_type": "code",
   "execution_count": null,
   "metadata": {},
   "outputs": [],
   "source": []
  },
  {
   "cell_type": "code",
   "execution_count": null,
   "metadata": {},
   "outputs": [],
   "source": []
  },
  {
   "cell_type": "code",
   "execution_count": null,
   "metadata": {},
   "outputs": [],
   "source": []
  },
  {
   "cell_type": "code",
   "execution_count": null,
   "metadata": {},
   "outputs": [],
   "source": []
  },
  {
   "cell_type": "code",
   "execution_count": null,
   "metadata": {},
   "outputs": [],
   "source": []
  }
 ],
 "metadata": {
  "kernelspec": {
   "display_name": "Python 3",
   "language": "python",
   "name": "python3"
  },
  "language_info": {
   "codemirror_mode": {
    "name": "ipython",
    "version": 3
   },
   "file_extension": ".py",
   "mimetype": "text/x-python",
   "name": "python",
   "nbconvert_exporter": "python",
   "pygments_lexer": "ipython3",
   "version": "3.6.5"
  }
 },
 "nbformat": 4,
 "nbformat_minor": 2
}
