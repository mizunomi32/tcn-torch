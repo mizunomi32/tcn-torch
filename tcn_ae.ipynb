{
 "cells": [
  {
   "cell_type": "code",
   "execution_count": 1,
   "metadata": {},
   "outputs": [],
   "source": [
    "import numpy as np\n",
    "import pandas as pd\n",
    "from sklearn.utils import shuffle\n",
    "from sklearn.model_selection import train_test_split\n",
    "import torch\n",
    "\n",
    "import torch.nn as nn\n",
    "import torch.nn.functional as F\n",
    "from torch.autograd import Variable\n",
    "import torch.optim as optim\n",
    "from tcn import TemporalConvNet\n",
    "import time\n",
    "import os\n"
   ]
  },
  {
   "cell_type": "code",
   "execution_count": 2,
   "metadata": {},
   "outputs": [],
   "source": [
    "from tcnae import encoder,decoder"
   ]
  },
  {
   "cell_type": "code",
   "execution_count": 3,
   "metadata": {},
   "outputs": [],
   "source": [
    "import data"
   ]
  },
  {
   "cell_type": "code",
   "execution_count": 4,
   "metadata": {},
   "outputs": [],
   "source": [
    "data_dir = os.environ['MYDATA_DIR']"
   ]
  },
  {
   "cell_type": "code",
   "execution_count": 5,
   "metadata": {},
   "outputs": [],
   "source": [
    "data_c = data.Data(wd=data_dir)"
   ]
  },
  {
   "cell_type": "code",
   "execution_count": 6,
   "metadata": {},
   "outputs": [],
   "source": [
    "raw_x, raw_y = data_c.data(class_num=19, data_num=400)"
   ]
  },
  {
   "cell_type": "code",
   "execution_count": 7,
   "metadata": {},
   "outputs": [
    {
     "data": {
      "text/plain": [
       "(7600,)"
      ]
     },
     "execution_count": 7,
     "metadata": {},
     "output_type": "execute_result"
    }
   ],
   "source": [
    "raw_y.shape"
   ]
  },
  {
   "cell_type": "code",
   "execution_count": 8,
   "metadata": {},
   "outputs": [
    {
     "data": {
      "text/plain": [
       "(7600, 125, 3)"
      ]
     },
     "execution_count": 8,
     "metadata": {},
     "output_type": "execute_result"
    }
   ],
   "source": [
    "raw_x.shape"
   ]
  },
  {
   "cell_type": "code",
   "execution_count": 9,
   "metadata": {},
   "outputs": [],
   "source": [
    "batch_size = 50\n",
    "seq_len = 125\n",
    "epochs = 50\n",
    "iters = 100\n",
    "T = 130\n",
    "n_steps = T + (2 * seq_len)\n",
    "n_classes = 10  # Digits 0 - 9\n",
    "n_train = 10000\n",
    "n_test = 1000"
   ]
  },
  {
   "cell_type": "code",
   "execution_count": 10,
   "metadata": {},
   "outputs": [
    {
     "data": {
      "text/plain": [
       "(760, 125, 3)"
      ]
     },
     "execution_count": 10,
     "metadata": {},
     "output_type": "execute_result"
    }
   ],
   "source": [
    "X_train, X_test, y_train, y_test = train_test_split(raw_x, raw_y, test_size=0.90, random_state=0)\n",
    "X_train.shape"
   ]
  },
  {
   "cell_type": "code",
   "execution_count": 10,
   "metadata": {},
   "outputs": [],
   "source": [
    "X_train_new = X_train\n",
    "y_train_new = y_train\n",
    "for _ in range(3):\n",
    "    for i,j in zip(X_train,y_train):\n",
    "        X_train_new = np.append(X_train_new,i+np.random.normal(0, 1, (125, 3)).reshape(1,125,3))\n",
    "        y_train_new = np.append(y_train_new, j)\n",
    "X_train = X_train_new.reshape(-1,125,3)\n",
    "y_train = y_train_new"
   ]
  },
  {
   "cell_type": "code",
   "execution_count": 11,
   "metadata": {},
   "outputs": [],
   "source": [
    "num_chans = [6] * (4) \n",
    "encoder = encoder(num_inputs=raw_x.shape[1],num_outputs=19, num_channels=num_chans, kernel_size=4, dropout=0.0).cuda()"
   ]
  },
  {
   "cell_type": "code",
   "execution_count": 12,
   "metadata": {},
   "outputs": [],
   "source": [
    "decoder = decoder(num_inputs=19,num_outputs=3, num_channels=num_chans, kernel_size=4, dropout=0.0).cuda()"
   ]
  },
  {
   "cell_type": "code",
   "execution_count": null,
   "metadata": {},
   "outputs": [],
   "source": []
  },
  {
   "cell_type": "code",
   "execution_count": null,
   "metadata": {},
   "outputs": [],
   "source": []
  },
  {
   "cell_type": "code",
   "execution_count": null,
   "metadata": {},
   "outputs": [],
   "source": []
  },
  {
   "cell_type": "code",
   "execution_count": 13,
   "metadata": {},
   "outputs": [],
   "source": [
    "criterion = nn.MSELoss().cuda()\n",
    "lr = 0.001\n",
    "optimizer1 =optim.RMSprop(encoder.parameters(),lr=lr)\n",
    "optimizer2 =optim.RMSprop(decoder.parameters(),lr=lr)"
   ]
  },
  {
   "cell_type": "code",
   "execution_count": 14,
   "metadata": {},
   "outputs": [],
   "source": [
    "encoder.train()\n",
    "decoder.train()\n",
    "total_loss = 0\n",
    "start_time = time.time()\n",
    "correct = 0\n",
    "counter = 0"
   ]
  },
  {
   "cell_type": "code",
   "execution_count": 15,
   "metadata": {},
   "outputs": [
    {
     "data": {
      "text/plain": [
       "RMSprop (\n",
       "Parameter Group 0\n",
       "    alpha: 0.99\n",
       "    centered: False\n",
       "    eps: 1e-08\n",
       "    lr: 0.001\n",
       "    momentum: 0\n",
       "    weight_decay: 0\n",
       ")"
      ]
     },
     "execution_count": 15,
     "metadata": {},
     "output_type": "execute_result"
    }
   ],
   "source": [
    "optimizer1"
   ]
  },
  {
   "cell_type": "code",
   "execution_count": null,
   "metadata": {},
   "outputs": [],
   "source": []
  },
  {
   "cell_type": "code",
   "execution_count": 30,
   "metadata": {},
   "outputs": [
    {
     "name": "stderr",
     "output_type": "stream",
     "text": [
      "/mnt/nfs/mizuno/.pyenv/versions/anaconda3-5.2.0/lib/python3.6/site-packages/torch/nn/modules/upsampling.py:122: UserWarning: nn.Upsampling is deprecated. Use nn.functional.interpolate instead.\n",
      "  warnings.warn(\"nn.Upsampling is deprecated. Use nn.functional.interpolate instead.\")\n"
     ]
    },
    {
     "name": "stdout",
     "output_type": "stream",
     "text": [
      "0 tensor(8.3974, device='cuda:0', grad_fn=<MseLossBackward>)\n",
      "50 tensor(7.8561, device='cuda:0', grad_fn=<MseLossBackward>)\n",
      "100 tensor(8.1499, device='cuda:0', grad_fn=<MseLossBackward>)\n",
      "150 tensor(7.9120, device='cuda:0', grad_fn=<MseLossBackward>)\n",
      "200 tensor(7.8734, device='cuda:0', grad_fn=<MseLossBackward>)\n",
      "250 tensor(7.3472, device='cuda:0', grad_fn=<MseLossBackward>)\n",
      "300 tensor(7.7668, device='cuda:0', grad_fn=<MseLossBackward>)\n",
      "350 tensor(7.3444, device='cuda:0', grad_fn=<MseLossBackward>)\n",
      "400 tensor(7.1886, device='cuda:0', grad_fn=<MseLossBackward>)\n",
      "450 tensor(7.0865, device='cuda:0', grad_fn=<MseLossBackward>)\n",
      "500 tensor(7.1314, device='cuda:0', grad_fn=<MseLossBackward>)\n",
      "550 tensor(7.2292, device='cuda:0', grad_fn=<MseLossBackward>)\n",
      "600 tensor(6.9728, device='cuda:0', grad_fn=<MseLossBackward>)\n",
      "650 tensor(7.0028, device='cuda:0', grad_fn=<MseLossBackward>)\n",
      "700 tensor(6.8877, device='cuda:0', grad_fn=<MseLossBackward>)\n",
      "750 tensor(6.7983, device='cuda:0', grad_fn=<MseLossBackward>)\n",
      "800 tensor(7.5846, device='cuda:0', grad_fn=<MseLossBackward>)\n",
      "850 tensor(6.7148, device='cuda:0', grad_fn=<MseLossBackward>)\n",
      "900 tensor(6.7056, device='cuda:0', grad_fn=<MseLossBackward>)\n",
      "950 tensor(6.6358, device='cuda:0', grad_fn=<MseLossBackward>)\n"
     ]
    }
   ],
   "source": [
    "input = torch.tensor(X_train,dtype=torch.float32).cuda()\n",
    "for i in range(1000):\n",
    "    optimizer1.zero_grad()\n",
    "    optimizer2.zero_grad()\n",
    "    z = encoder(input)\n",
    "    out = decoder(z)\n",
    "    loss = criterion(out, input)\n",
    "    if i%50==0:\n",
    "#         input = torch.tensor([X_train[1]],dtype=torch.float32)\n",
    "#         out= model(input)\n",
    "#         print(out)\n",
    "#         print(torch.max(out, 1))\n",
    "        print(i,loss)\n",
    "    loss.backward()\n",
    "    optimizer1.step()\n",
    "    optimizer2.step()"
   ]
  },
  {
   "cell_type": "code",
   "execution_count": null,
   "metadata": {},
   "outputs": [],
   "source": []
  },
  {
   "cell_type": "code",
   "execution_count": 27,
   "metadata": {},
   "outputs": [],
   "source": [
    "input = torch.tensor([X_train[10]],dtype=torch.float32).cuda()\n"
   ]
  },
  {
   "cell_type": "code",
   "execution_count": 28,
   "metadata": {},
   "outputs": [
    {
     "data": {
      "text/plain": [
       "tensor([[[ 0.2339, -0.8865,  0.3796,  0.9145,  0.1350,  1.2344,  0.5428,\n",
       "           0.4001,  0.4521, -0.6557,  0.5656,  0.0248, -0.8048, -0.5961,\n",
       "           1.3202, -0.5260, -1.1610, -0.0127,  0.2765],\n",
       "         [ 0.3507, -1.0916,  0.4210,  0.6326,  0.2952,  1.3983,  0.0265,\n",
       "           0.2449,  0.1515, -0.3909,  0.4433, -0.0741, -0.7639, -0.5203,\n",
       "           1.0080, -0.7416, -1.0706, -0.1304,  0.1544],\n",
       "         [ 0.3901, -1.0874, -0.3229,  0.2363, -0.3794, -0.7287,  1.9323,\n",
       "           0.0534,  0.6404, -0.2285, -0.6395, -0.1902, -0.8347, -0.7176,\n",
       "           1.2532, -0.8445, -1.9996, -1.1653,  1.1234],\n",
       "         [-0.1248, -0.5096, -0.3915,  0.1537,  0.3825,  1.6372, -0.9823,\n",
       "          -0.6250, -1.7220,  0.3134,  0.6341,  0.6911, -0.0162, -1.8180,\n",
       "           0.6760, -1.8018, -0.5127,  0.0340,  0.0374],\n",
       "         [ 3.1910,  0.1313, -0.7309,  0.3182,  1.0369, -0.5445, -2.0117,\n",
       "          -0.3426, -1.0849,  0.7778, -1.5263,  1.2675, -1.6433,  2.0858,\n",
       "           0.1038, -2.5157, -0.9844,  2.9930,  0.7181],\n",
       "         [ 0.0511, -3.8124,  0.0787, -0.0534,  0.1670, -0.6582,  0.2675,\n",
       "           0.2399,  0.8299,  0.8275, -1.8788, -1.5130, -0.2256, -1.3738,\n",
       "           0.2657, -1.2529, -0.9955, -1.8224,  0.4714],\n",
       "         [ 2.3063,  1.5148, -0.2541,  2.0035, -0.8022,  0.2704, -1.2190,\n",
       "          -1.6431, -1.3779, -0.3801,  0.5387,  0.5268, -0.0054,  1.4066,\n",
       "          -1.8701, -2.5767, -0.8082,  1.0302, -0.4843],\n",
       "         [ 0.6190, -0.9263,  0.7704, -2.3722,  0.8816, -0.9393,  0.9336,\n",
       "           0.5697,  1.4986,  0.1128,  0.3067, -0.5987, -1.4260,  0.6033,\n",
       "           3.5919, -2.0258, -1.9750, -2.0693,  0.6673],\n",
       "         [ 1.3217, -0.4472,  0.9612,  2.1628, -1.7444, -0.1290, -0.3585,\n",
       "          -0.1149, -0.9866,  0.6260,  1.1239,  0.7067,  1.3771, -0.5473,\n",
       "          -1.2521, -2.4947,  1.2228, -0.6246, -0.7086],\n",
       "         [ 0.0331, -3.0813, -0.4215, -1.1913,  0.0615,  0.1464, -0.3542,\n",
       "           1.2515,  0.7502, -0.1076,  0.7427,  0.0571,  0.2232, -1.2759,\n",
       "           1.6644, -0.0962, -1.7908, -1.1349, -0.3879]]],\n",
       "       device='cuda:0', grad_fn=<ThAddBackward>)"
      ]
     },
     "execution_count": 28,
     "metadata": {},
     "output_type": "execute_result"
    }
   ],
   "source": [
    "z = encoder(input)\n",
    "z"
   ]
  },
  {
   "cell_type": "code",
   "execution_count": 29,
   "metadata": {},
   "outputs": [
    {
     "data": {
      "text/plain": [
       "tensor([[[ 0.2339, -0.8865,  0.3796,  0.9145,  0.1350,  1.2344,  0.5428,\n",
       "           0.4001,  0.4521, -0.6557,  0.5656,  0.0248, -0.8048, -0.5961,\n",
       "           1.3202, -0.5260, -1.1610, -0.0127,  0.2765],\n",
       "         [ 0.3507, -1.0916,  0.4210,  0.6326,  0.2952,  1.3983,  0.0265,\n",
       "           0.2449,  0.1515, -0.3909,  0.4433, -0.0741, -0.7639, -0.5203,\n",
       "           1.0080, -0.7416, -1.0706, -0.1304,  0.1544],\n",
       "         [ 0.3901, -1.0874, -0.3229,  0.2363, -0.3794, -0.7287,  1.9323,\n",
       "           0.0534,  0.6404, -0.2285, -0.6395, -0.1902, -0.8347, -0.7176,\n",
       "           1.2532, -0.8445, -1.9996, -1.1653,  1.1234],\n",
       "         [-0.1248, -0.5096, -0.3915,  0.1537,  0.3825,  1.6372, -0.9823,\n",
       "          -0.6250, -1.7220,  0.3134,  0.6341,  0.6911, -0.0162, -1.8180,\n",
       "           0.6760, -1.8018, -0.5127,  0.0340,  0.0374],\n",
       "         [ 3.1910,  0.1313, -0.7309,  0.3182,  1.0369, -0.5445, -2.0117,\n",
       "          -0.3426, -1.0849,  0.7778, -1.5263,  1.2675, -1.6433,  2.0858,\n",
       "           0.1038, -2.5157, -0.9844,  2.9930,  0.7181],\n",
       "         [ 0.0511, -3.8124,  0.0787, -0.0534,  0.1670, -0.6582,  0.2675,\n",
       "           0.2399,  0.8299,  0.8275, -1.8788, -1.5130, -0.2256, -1.3738,\n",
       "           0.2657, -1.2529, -0.9955, -1.8224,  0.4714],\n",
       "         [ 2.3063,  1.5148, -0.2541,  2.0035, -0.8022,  0.2704, -1.2190,\n",
       "          -1.6431, -1.3779, -0.3801,  0.5387,  0.5268, -0.0054,  1.4066,\n",
       "          -1.8701, -2.5767, -0.8082,  1.0302, -0.4843],\n",
       "         [ 0.6190, -0.9263,  0.7704, -2.3722,  0.8816, -0.9393,  0.9336,\n",
       "           0.5697,  1.4986,  0.1128,  0.3067, -0.5987, -1.4260,  0.6033,\n",
       "           3.5919, -2.0258, -1.9750, -2.0693,  0.6673],\n",
       "         [ 1.3217, -0.4472,  0.9612,  2.1628, -1.7444, -0.1290, -0.3585,\n",
       "          -0.1149, -0.9866,  0.6260,  1.1239,  0.7067,  1.3771, -0.5473,\n",
       "          -1.2521, -2.4947,  1.2228, -0.6246, -0.7086],\n",
       "         [ 0.0331, -3.0813, -0.4215, -1.1913,  0.0615,  0.1464, -0.3542,\n",
       "           1.2515,  0.7502, -0.1076,  0.7427,  0.0571,  0.2232, -1.2759,\n",
       "           1.6644, -0.0962, -1.7908, -1.1349, -0.3879]]],\n",
       "       device='cuda:0', grad_fn=<ThAddBackward>)"
      ]
     },
     "execution_count": 29,
     "metadata": {},
     "output_type": "execute_result"
    }
   ],
   "source": [
    "z"
   ]
  },
  {
   "cell_type": "code",
   "execution_count": null,
   "metadata": {},
   "outputs": [],
   "source": []
  },
  {
   "cell_type": "code",
   "execution_count": null,
   "metadata": {},
   "outputs": [],
   "source": []
  },
  {
   "cell_type": "code",
   "execution_count": null,
   "metadata": {},
   "outputs": [],
   "source": []
  },
  {
   "cell_type": "code",
   "execution_count": null,
   "metadata": {},
   "outputs": [],
   "source": []
  },
  {
   "cell_type": "code",
   "execution_count": null,
   "metadata": {},
   "outputs": [],
   "source": []
  },
  {
   "cell_type": "code",
   "execution_count": null,
   "metadata": {},
   "outputs": [],
   "source": []
  }
 ],
 "metadata": {
  "kernelspec": {
   "display_name": "Python 3",
   "language": "python",
   "name": "python3"
  },
  "language_info": {
   "codemirror_mode": {
    "name": "ipython",
    "version": 3
   },
   "file_extension": ".py",
   "mimetype": "text/x-python",
   "name": "python",
   "nbconvert_exporter": "python",
   "pygments_lexer": "ipython3",
   "version": "3.6.5"
  }
 },
 "nbformat": 4,
 "nbformat_minor": 2
}
